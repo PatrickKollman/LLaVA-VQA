{
 "cells": [
  {
   "cell_type": "code",
   "execution_count": 4,
   "metadata": {},
   "outputs": [],
   "source": [
    "import glob\n",
    "import os\n",
    "import random\n",
    "\n",
    "from skimage import io\n",
    "from matplotlib import pyplot as plt\n",
    "\n",
    "from data_visualization.vqa_interface import VQA"
   ]
  },
  {
   "cell_type": "code",
   "execution_count": 22,
   "metadata": {},
   "outputs": [],
   "source": [
    "data_dir = \"/Users/patrickkollman/Google Drive/My Drive/VQA/data\""
   ]
  },
  {
   "cell_type": "markdown",
   "metadata": {},
   "source": [
    "### Visualize Test Data"
   ]
  },
  {
   "cell_type": "code",
   "execution_count": 23,
   "metadata": {},
   "outputs": [
    {
     "name": "stdout",
     "output_type": "stream",
     "text": [
      "81434 images in /Users/patrickkollman/Google Drive/My Drive/VQA/data/Images/test2015\n"
     ]
    }
   ],
   "source": [
    "test_img_dir = f\"{data_dir}/Images/test2015\"\n",
    "test_img_file_paths = list(set(glob.glob(f\"{test_img_dir}/*.jpg\")))\n",
    "print(f\"{len(test_img_file_paths)} images in {test_img_dir}\")\n",
    "\n",
    "ques_file = f\"{data_dir}/Answers/v2_Questions_Test_mscoco.json\""
   ]
  },
  {
   "cell_type": "code",
   "execution_count": null,
   "metadata": {},
   "outputs": [],
   "source": [
    "# initialize VQA api for QA annotations\n",
    "vqa = VQA(ann_file, ques_file)"
   ]
  },
  {
   "cell_type": "markdown",
   "metadata": {},
   "source": [
    "### Load and display QA annotations for given question types"
   ]
  },
  {
   "cell_type": "code",
   "execution_count": null,
   "metadata": {},
   "outputs": [],
   "source": [
    "\"\"\"\n",
    "All possible quesTypes for abstract and mscoco has been provided in respective text files in ../VQA/QuestionTypes/\n",
    "\"\"\"\n",
    "\n",
    "ann_ids = vqa.get_ques_ids(ques_types=\"how many\")\n",
    "anns = vqa.load_qa(ann_ids)\n",
    "random_ann = random.choice(anns)\n",
    "vqa.show_qa([random_ann])\n",
    "img_id = random_ann[\"image_id\"]\n",
    "img_filename = \"COCO_\" + dataSubType + \"_\" + str(imgId).zfill(12) + \".jpg\"\n",
    "if os.path.isfile(imgDir + imgFilename):\n",
    "    I = io.imread(imgDir + imgFilename)\n",
    "    plt.imshow(I)\n",
    "    plt.axis(\"off\")\n",
    "    plt.show()"
   ]
  },
  {
   "cell_type": "markdown",
   "metadata": {},
   "source": [
    "### Load and display QA annotations for given answer types"
   ]
  },
  {
   "cell_type": "code",
   "execution_count": null,
   "metadata": {},
   "outputs": [],
   "source": [
    "\"\"\"\n",
    "'ans_types' can be one of the following: \"yes/no\", \"number\", \"other\"\n",
    "\"\"\"\n",
    "\n",
    "annIds = vqa.getQuesIds(ansTypes=\"yes/no\")\n",
    "anns = vqa.loadQA(annIds)\n",
    "randomAnn = random.choice(anns)\n",
    "vqa.showQA([randomAnn])\n",
    "imgId = randomAnn[\"image_id\"]\n",
    "imgFilename = \"COCO_\" + dataSubType + \"_\" + str(imgId).zfill(12) + \".jpg\"\n",
    "if os.path.isfile(imgDir + imgFilename):\n",
    "    I = io.imread(imgDir + imgFilename)\n",
    "    plt.imshow(I)\n",
    "    plt.axis(\"off\")\n",
    "    plt.show()"
   ]
  },
  {
   "cell_type": "markdown",
   "metadata": {},
   "source": [
    "### Load and display QA annotations for given images"
   ]
  },
  {
   "cell_type": "code",
   "execution_count": null,
   "metadata": {},
   "outputs": [],
   "source": [
    "ids = vqa.getImgIds()\n",
    "annIds = vqa.getQuesIds(imgIds=random.sample(ids, 5))\n",
    "anns = vqa.loadQA(annIds)\n",
    "randomAnn = random.choice(anns)\n",
    "vqa.showQA([randomAnn])\n",
    "imgId = randomAnn[\"image_id\"]\n",
    "imgFilename = \"COCO_\" + dataSubType + \"_\" + str(imgId).zfill(12) + \".jpg\"\n",
    "if os.path.isfile(imgDir + imgFilename):\n",
    "    I = io.imread(imgDir + imgFilename)\n",
    "    plt.imshow(I)\n",
    "    plt.axis(\"off\")\n",
    "    plt.show()"
   ]
  }
 ],
 "metadata": {
  "kernelspec": {
   "display_name": "llava",
   "language": "python",
   "name": "python3"
  },
  "language_info": {
   "codemirror_mode": {
    "name": "ipython",
    "version": 3
   },
   "file_extension": ".py",
   "mimetype": "text/x-python",
   "name": "python",
   "nbconvert_exporter": "python",
   "pygments_lexer": "ipython3",
   "version": "3.10.14"
  }
 },
 "nbformat": 4,
 "nbformat_minor": 2
}
